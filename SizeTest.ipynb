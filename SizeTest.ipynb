{
  "nbformat": 4,
  "nbformat_minor": 0,
  "metadata": {
    "colab": {
      "name": "SizeTest.ipynb",
      "provenance": [],
      "collapsed_sections": [],
      "machine_shape": "hm"
    },
    "kernelspec": {
      "name": "python3",
      "display_name": "Python 3"
    },
    "language_info": {
      "name": "python"
    },
    "accelerator": "GPU"
  },
  "cells": [
    {
      "cell_type": "code",
      "metadata": {
        "id": "_caPmmIRpx6D",
        "colab": {
          "base_uri": "https://localhost:8080/"
        },
        "outputId": "a6ce26e7-241c-4443-f80d-4aea82adde41"
      },
      "source": [
        "!pip install git+https://github.com/finetuneanon/transformers@gpt-neo-dungeon-localattention1\n",
        "!nvidia-smi"
      ],
      "execution_count": 1,
      "outputs": [
        {
          "output_type": "stream",
          "text": [
            "Tue Apr 27 16:21:09 2021       \n",
            "+-----------------------------------------------------------------------------+\n",
            "| NVIDIA-SMI 465.19.01    Driver Version: 460.32.03    CUDA Version: 11.2     |\n",
            "|-------------------------------+----------------------+----------------------+\n",
            "| GPU  Name        Persistence-M| Bus-Id        Disp.A | Volatile Uncorr. ECC |\n",
            "| Fan  Temp  Perf  Pwr:Usage/Cap|         Memory-Usage | GPU-Util  Compute M. |\n",
            "|                               |                      |               MIG M. |\n",
            "|===============================+======================+======================|\n",
            "|   0  Tesla P100-PCIE...  Off  | 00000000:00:04.0 Off |                    0 |\n",
            "| N/A   53C    P0    44W / 250W |      0MiB / 16280MiB |      0%      Default |\n",
            "|                               |                      |                  N/A |\n",
            "+-------------------------------+----------------------+----------------------+\n",
            "                                                                               \n",
            "+-----------------------------------------------------------------------------+\n",
            "| Processes:                                                                  |\n",
            "|  GPU   GI   CI        PID   Type   Process name                  GPU Memory |\n",
            "|        ID   ID                                                   Usage      |\n",
            "|=============================================================================|\n",
            "|  No running processes found                                                 |\n",
            "+-----------------------------------------------------------------------------+\n"
          ],
          "name": "stdout"
        }
      ]
    },
    {
      "cell_type": "code",
      "metadata": {
        "id": "YaqBojtyp0PI"
      },
      "source": [
        "from transformers import GPTNeoForCausalLM, AutoConfig\n",
        "import torch"
      ],
      "execution_count": 2,
      "outputs": []
    },
    {
      "cell_type": "code",
      "metadata": {
        "id": "LNWd9lSryMPl",
        "colab": {
          "base_uri": "https://localhost:8080/"
        },
        "outputId": "79764cf3-e5c5-40e9-d04c-f818f6a0a9b4"
      },
      "source": [
        "config = AutoConfig.from_pretrained(\"EleutherAI/gpt-neo-2.7B\")\n",
        "# extra_layers = 26                 # 58 layers\n",
        "# extra_heads = 4                   # 24 heads, 3072 hidden\n",
        "# Parameter count: 6.730748928\n",
        "# extra_layers = 8                  # 40 layers\n",
        "# extra_heads = 8                   # 28 heads, 3584 hidden\n",
        "# Parameter count: 6.354528768\n",
        "extra_layers = 0                  # 32 layers\n",
        "extra_heads = 12                  # 32 heads, 4096 hidden, GPT-3 6.7B\n",
        "# Parameter count: 6.658011136\n",
        "config.attention_layers.extend([\"global\", \"local\"] * (extra_layers // 2))\n",
        "config.attention_types[0][0][1] = 16 + (extra_layers // 2)\n",
        "config.num_layers = 32 + extra_layers\n",
        "config.num_heads = 20 + extra_heads\n",
        "config.hidden_size = 128 * config.num_heads\n",
        "model = GPTNeoForCausalLM(config).half().cuda()\n",
        "print(\"Parameter count: \" + str(sum(p.numel() for p in model.parameters() if p.requires_grad) / 1000000000))\n",
        "model = model.eval()"
      ],
      "execution_count": 3,
      "outputs": [
        {
          "output_type": "stream",
          "text": [
            "Parameter count: 6.658011136\n"
          ],
          "name": "stdout"
        }
      ]
    },
    {
      "cell_type": "code",
      "metadata": {
        "id": "fbRNYLNg7FBn",
        "colab": {
          "base_uri": "https://localhost:8080/"
        },
        "outputId": "1dc4f713-0b7d-4143-8c02-5366f238b91c"
      },
      "source": [
        "torch.cuda.empty_cache()\n",
        "print(torch.cuda.memory_allocated() / 1024. / 1024.)\n",
        "with torch.no_grad():\n",
        "  for i in range(10):\n",
        "    ids = torch.zeros(1,2048).int().cuda()\n",
        "    output = model(ids)\n",
        "    del ids\n",
        "    del output.loss\n",
        "    del output.logits\n",
        "    del output\n",
        "print(torch.cuda.max_memory_allocated() / 1024. / 1024.)\n",
        "!nvidia-smi | grep MiB"
      ],
      "execution_count": 9,
      "outputs": [
        {
          "output_type": "stream",
          "text": [
            "12763.1640625\n",
            "14687.18798828125\n",
            "| N/A   64C    P0   196W / 250W |  15973MiB / 16280MiB |    100%      Default |\n"
          ],
          "name": "stdout"
        }
      ]
    }
  ]
}
